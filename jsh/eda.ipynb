{
 "cells": [
  {
   "cell_type": "code",
   "execution_count": 204,
   "metadata": {},
   "outputs": [],
   "source": [
    "import json\n",
    "\n",
    "file_path = '../stage1_problems/STAGE1_2.json'\n",
    "\n",
    "with open(file_path, 'r') as file:\n",
    "    data = json.load(file)\n",
    "\n"
   ]
  },
  {
   "cell_type": "code",
   "execution_count": 205,
   "metadata": {},
   "outputs": [],
   "source": [
    "import pandas as pd\n",
    "import matplotlib.pyplot as plt\n",
    "import numpy as np\n",
    "import warnings\n",
    "warnings.filterwarnings('ignore')"
   ]
  },
  {
   "cell_type": "code",
   "execution_count": 206,
   "metadata": {},
   "outputs": [],
   "source": [
    "class Order:\n",
    "    def __init__(self, order_info):\n",
    "        # [ORD_ID, ORD_TIME, SHOP_LAT, SHOP_LON, DLV_LAT, DLV_LON, VOL, COOK_TIME, DLV_DEADLINE]\n",
    "        self.id = order_info[0]\n",
    "        self.order_time = order_info[1]\n",
    "        self.shop_lat = order_info[2]\n",
    "        self.shop_lon = order_info[3]\n",
    "        self.dlv_lat = order_info[4]\n",
    "        self.dlv_lon = order_info[5]\n",
    "        self.cook_time = order_info[6]\n",
    "        self.volume = order_info[7]\n",
    "        self.deadline = order_info[8]\n",
    "\n",
    "        self.ready_time = self.order_time + self.cook_time\n",
    "\n",
    "    def __repr__(self) -> str:\n",
    "        return f'Order([{self.id}, {self.order_time}, {self.shop_lat}, {self.shop_lon}, {self.dlv_lat}, {self.dlv_lon}, {self.volume}, {self.cook_time}, {self.deadline}])'\n",
    "\n",
    "# 배달원 class\n",
    "class Rider:\n",
    "    def __init__(self, rider_info):\n",
    "        # [type, speed, capa, var_cost, fixed_cost, service_time, available number]\n",
    "        self.type = rider_info[0]\n",
    "        self.speed = rider_info[1]\n",
    "        self.capa = rider_info[2]\n",
    "        self.var_cost = rider_info[3]\n",
    "        self.fixed_cost = rider_info[4]\n",
    "        self.service_time = rider_info[5]\n",
    "        self.available_number = rider_info[6]\n",
    "    \n",
    "    def __repr__(self) -> str:\n",
    "        return f'Rider([{self.type}, {self.speed}, {self.capa}, {self.var_cost}, {self.fixed_cost}, {self.service_time}, {self.available_number}])'\n",
    "    \n",
    "    # 주어진 거리에 대한 배달원 비용 계산\n",
    "    # = 배달원별 고정비 + 이동거리로 계산된 변동비\n",
    "    def calculate_cost(self, dist):\n",
    "        return self.fixed_cost + dist / 100.0 * self.var_cost\n",
    "\n",
    "# 묶음 주문 정보\n",
    "class Bundle:\n",
    "    def __init__(self, all_orders, rider, shop_seq, dlv_seq, total_volume, total_dist, feasible=True):\n",
    "        self.rider = rider\n",
    "        self.all_orders = all_orders\n",
    "        self.feasible = feasible\n",
    "        self.shop_seq = shop_seq\n",
    "        self.dlv_seq = dlv_seq\n",
    "        self.total_volume = total_volume\n",
    "        self.total_dist = total_dist\n",
    "        self.update_cost()\n",
    "\n",
    "    # 묶음 주문의 비용 update\n",
    "    def update_cost(self):\n",
    "        self.cost = self.rider.calculate_cost(self.total_dist)\n",
    "        self.cost_per_ord = self.cost / len(self.shop_seq)\n",
    "\n",
    "\n",
    "    def __repr__(self) -> str:\n",
    "        return f'Bundle(all_orders, {self.rider.type}, {self.shop_seq}, {self.dlv_seq}, {self.total_volume}, {self.feasible})'\n"
   ]
  },
  {
   "cell_type": "code",
   "execution_count": 207,
   "metadata": {},
   "outputs": [],
   "source": [
    "riders_data = data['RIDERS']\n",
    "orders_data = data['ORDERS']\n",
    "dist_data = data['DIST']\n",
    "\n",
    "riders_columns = ['Transport', 'Speed', 'Capacity', 'RestTime', 'Cost', 'Income', 'Satisfaction']\n",
    "riders_df = pd.DataFrame(riders_data, columns=riders_columns)\n",
    "\n",
    "orders_columns = ['OrderID', 'Time', 'StartLat', 'StartLong', 'EndLat', 'EndLong', 'Distance', 'TimeWindow', 'deadline']\n",
    "orders_df = pd.DataFrame(orders_data, columns=orders_columns)\n",
    "\n",
    "dist_df = pd.DataFrame(dist_data)\n",
    "dist_array = dist_df.to_numpy()"
   ]
  },
  {
   "cell_type": "code",
   "execution_count": 208,
   "metadata": {},
   "outputs": [
    {
     "data": {
      "text/html": [
       "<div>\n",
       "<style scoped>\n",
       "    .dataframe tbody tr th:only-of-type {\n",
       "        vertical-align: middle;\n",
       "    }\n",
       "\n",
       "    .dataframe tbody tr th {\n",
       "        vertical-align: top;\n",
       "    }\n",
       "\n",
       "    .dataframe thead th {\n",
       "        text-align: right;\n",
       "    }\n",
       "</style>\n",
       "<table border=\"1\" class=\"dataframe\">\n",
       "  <thead>\n",
       "    <tr style=\"text-align: right;\">\n",
       "      <th></th>\n",
       "      <th>OrderID</th>\n",
       "      <th>Time</th>\n",
       "      <th>StartLat</th>\n",
       "      <th>StartLong</th>\n",
       "      <th>EndLat</th>\n",
       "      <th>EndLong</th>\n",
       "      <th>Distance</th>\n",
       "      <th>TimeWindow</th>\n",
       "      <th>deadline</th>\n",
       "    </tr>\n",
       "  </thead>\n",
       "  <tbody>\n",
       "    <tr>\n",
       "      <th>0</th>\n",
       "      <td>0</td>\n",
       "      <td>17</td>\n",
       "      <td>36.011127</td>\n",
       "      <td>126.013719</td>\n",
       "      <td>36.006495</td>\n",
       "      <td>126.011111</td>\n",
       "      <td>1200</td>\n",
       "      <td>24</td>\n",
       "      <td>3384</td>\n",
       "    </tr>\n",
       "    <tr>\n",
       "      <th>1</th>\n",
       "      <td>1</td>\n",
       "      <td>132</td>\n",
       "      <td>35.999656</td>\n",
       "      <td>126.006998</td>\n",
       "      <td>35.999958</td>\n",
       "      <td>126.016897</td>\n",
       "      <td>1500</td>\n",
       "      <td>48</td>\n",
       "      <td>3907</td>\n",
       "    </tr>\n",
       "    <tr>\n",
       "      <th>2</th>\n",
       "      <td>2</td>\n",
       "      <td>208</td>\n",
       "      <td>35.996656</td>\n",
       "      <td>126.003360</td>\n",
       "      <td>35.995848</td>\n",
       "      <td>126.005397</td>\n",
       "      <td>300</td>\n",
       "      <td>11</td>\n",
       "      <td>2556</td>\n",
       "    </tr>\n",
       "    <tr>\n",
       "      <th>3</th>\n",
       "      <td>3</td>\n",
       "      <td>286</td>\n",
       "      <td>36.025792</td>\n",
       "      <td>126.004831</td>\n",
       "      <td>36.024556</td>\n",
       "      <td>126.005798</td>\n",
       "      <td>900</td>\n",
       "      <td>34</td>\n",
       "      <td>3220</td>\n",
       "    </tr>\n",
       "    <tr>\n",
       "      <th>4</th>\n",
       "      <td>4</td>\n",
       "      <td>296</td>\n",
       "      <td>36.001350</td>\n",
       "      <td>125.974501</td>\n",
       "      <td>35.995763</td>\n",
       "      <td>125.974194</td>\n",
       "      <td>900</td>\n",
       "      <td>16</td>\n",
       "      <td>3382</td>\n",
       "    </tr>\n",
       "    <tr>\n",
       "      <th>...</th>\n",
       "      <td>...</td>\n",
       "      <td>...</td>\n",
       "      <td>...</td>\n",
       "      <td>...</td>\n",
       "      <td>...</td>\n",
       "      <td>...</td>\n",
       "      <td>...</td>\n",
       "      <td>...</td>\n",
       "      <td>...</td>\n",
       "    </tr>\n",
       "    <tr>\n",
       "      <th>95</th>\n",
       "      <td>95</td>\n",
       "      <td>3468</td>\n",
       "      <td>36.008820</td>\n",
       "      <td>125.953697</td>\n",
       "      <td>35.998096</td>\n",
       "      <td>125.979487</td>\n",
       "      <td>1500</td>\n",
       "      <td>24</td>\n",
       "      <td>7812</td>\n",
       "    </tr>\n",
       "    <tr>\n",
       "      <th>96</th>\n",
       "      <td>96</td>\n",
       "      <td>3479</td>\n",
       "      <td>35.995795</td>\n",
       "      <td>126.011387</td>\n",
       "      <td>36.002826</td>\n",
       "      <td>126.021588</td>\n",
       "      <td>600</td>\n",
       "      <td>18</td>\n",
       "      <td>6458</td>\n",
       "    </tr>\n",
       "    <tr>\n",
       "      <th>97</th>\n",
       "      <td>97</td>\n",
       "      <td>3553</td>\n",
       "      <td>36.001045</td>\n",
       "      <td>126.008804</td>\n",
       "      <td>35.994064</td>\n",
       "      <td>126.032792</td>\n",
       "      <td>1800</td>\n",
       "      <td>34</td>\n",
       "      <td>8092</td>\n",
       "    </tr>\n",
       "    <tr>\n",
       "      <th>98</th>\n",
       "      <td>98</td>\n",
       "      <td>3567</td>\n",
       "      <td>36.001045</td>\n",
       "      <td>126.019247</td>\n",
       "      <td>35.984750</td>\n",
       "      <td>126.007104</td>\n",
       "      <td>600</td>\n",
       "      <td>25</td>\n",
       "      <td>6847</td>\n",
       "    </tr>\n",
       "    <tr>\n",
       "      <th>99</th>\n",
       "      <td>99</td>\n",
       "      <td>3583</td>\n",
       "      <td>36.014543</td>\n",
       "      <td>126.011109</td>\n",
       "      <td>36.017584</td>\n",
       "      <td>126.021019</td>\n",
       "      <td>1200</td>\n",
       "      <td>14</td>\n",
       "      <td>7079</td>\n",
       "    </tr>\n",
       "  </tbody>\n",
       "</table>\n",
       "<p>100 rows × 9 columns</p>\n",
       "</div>"
      ],
      "text/plain": [
       "    OrderID  Time   StartLat   StartLong     EndLat     EndLong  Distance  \\\n",
       "0         0    17  36.011127  126.013719  36.006495  126.011111      1200   \n",
       "1         1   132  35.999656  126.006998  35.999958  126.016897      1500   \n",
       "2         2   208  35.996656  126.003360  35.995848  126.005397       300   \n",
       "3         3   286  36.025792  126.004831  36.024556  126.005798       900   \n",
       "4         4   296  36.001350  125.974501  35.995763  125.974194       900   \n",
       "..      ...   ...        ...         ...        ...         ...       ...   \n",
       "95       95  3468  36.008820  125.953697  35.998096  125.979487      1500   \n",
       "96       96  3479  35.995795  126.011387  36.002826  126.021588       600   \n",
       "97       97  3553  36.001045  126.008804  35.994064  126.032792      1800   \n",
       "98       98  3567  36.001045  126.019247  35.984750  126.007104       600   \n",
       "99       99  3583  36.014543  126.011109  36.017584  126.021019      1200   \n",
       "\n",
       "    TimeWindow  deadline  \n",
       "0           24      3384  \n",
       "1           48      3907  \n",
       "2           11      2556  \n",
       "3           34      3220  \n",
       "4           16      3382  \n",
       "..         ...       ...  \n",
       "95          24      7812  \n",
       "96          18      6458  \n",
       "97          34      8092  \n",
       "98          25      6847  \n",
       "99          14      7079  \n",
       "\n",
       "[100 rows x 9 columns]"
      ]
     },
     "execution_count": 208,
     "metadata": {},
     "output_type": "execute_result"
    }
   ],
   "source": [
    "orders_df"
   ]
  },
  {
   "cell_type": "code",
   "execution_count": 209,
   "metadata": {},
   "outputs": [
    {
     "data": {
      "text/html": [
       "<div>\n",
       "<style scoped>\n",
       "    .dataframe tbody tr th:only-of-type {\n",
       "        vertical-align: middle;\n",
       "    }\n",
       "\n",
       "    .dataframe tbody tr th {\n",
       "        vertical-align: top;\n",
       "    }\n",
       "\n",
       "    .dataframe thead th {\n",
       "        text-align: right;\n",
       "    }\n",
       "</style>\n",
       "<table border=\"1\" class=\"dataframe\">\n",
       "  <thead>\n",
       "    <tr style=\"text-align: right;\">\n",
       "      <th></th>\n",
       "      <th>Transport</th>\n",
       "      <th>Speed</th>\n",
       "      <th>Capacity</th>\n",
       "      <th>RestTime</th>\n",
       "      <th>Cost</th>\n",
       "      <th>Income</th>\n",
       "      <th>Satisfaction</th>\n",
       "    </tr>\n",
       "  </thead>\n",
       "  <tbody>\n",
       "    <tr>\n",
       "      <th>0</th>\n",
       "      <td>BIKE</td>\n",
       "      <td>5.291005</td>\n",
       "      <td>100</td>\n",
       "      <td>60</td>\n",
       "      <td>8000</td>\n",
       "      <td>120</td>\n",
       "      <td>20</td>\n",
       "    </tr>\n",
       "    <tr>\n",
       "      <th>1</th>\n",
       "      <td>WALK</td>\n",
       "      <td>1.322751</td>\n",
       "      <td>70</td>\n",
       "      <td>30</td>\n",
       "      <td>8000</td>\n",
       "      <td>120</td>\n",
       "      <td>30</td>\n",
       "    </tr>\n",
       "    <tr>\n",
       "      <th>2</th>\n",
       "      <td>CAR</td>\n",
       "      <td>4.232804</td>\n",
       "      <td>200</td>\n",
       "      <td>100</td>\n",
       "      <td>6000</td>\n",
       "      <td>180</td>\n",
       "      <td>100</td>\n",
       "    </tr>\n",
       "  </tbody>\n",
       "</table>\n",
       "</div>"
      ],
      "text/plain": [
       "  Transport     Speed  Capacity  RestTime  Cost  Income  Satisfaction\n",
       "0      BIKE  5.291005       100        60  8000     120            20\n",
       "1      WALK  1.322751        70        30  8000     120            30\n",
       "2       CAR  4.232804       200       100  6000     180           100"
      ]
     },
     "execution_count": 209,
     "metadata": {},
     "output_type": "execute_result"
    }
   ],
   "source": [
    "riders_df"
   ]
  },
  {
   "cell_type": "code",
   "execution_count": 210,
   "metadata": {},
   "outputs": [],
   "source": [
    "K = data['K']\n",
    "\n",
    "all_orders = [Order(order_info) for order_info in data['ORDERS']]\n",
    "all_riders = [Rider(rider_info) for rider_info in data['RIDERS']]\n",
    "\n",
    "dist = np.array(data['DIST'])\n",
    "for r in all_riders:\n",
    "    r.T = np.round(dist/r.speed + r.service_time)"
   ]
  },
  {
   "cell_type": "code",
   "execution_count": 211,
   "metadata": {},
   "outputs": [],
   "source": [
    "# 주문들의 총 부피 계산\n",
    "# shop_seq는 주문들의 pickup list\n",
    "# Note: shop_seq는 주문 id의 list와 동일\n",
    "def get_total_volume(all_orders, shop_seq):\n",
    "    return sum(all_orders[k].volume for k in shop_seq)\n",
    "\n",
    "# shop_seq의 순서로 pickup하고 dlv_seq 순서로 배달할 때 총 거리 계산\n",
    "# Note: shop_seq 와 dlv_seq는 같은 주문 id들을 가져야 함. 즉, set(shop_seq) == seq(dlv_seq). (주문 id들의 순서는 바뀔 수 있음)\n",
    "def get_total_distance(K, dist_mat, shop_seq, dlv_seq):\n",
    "    return sum(dist_mat[i,j] for (i,j) in zip(shop_seq[:-1], shop_seq[1:])) + dist_mat[shop_seq[-1], dlv_seq[0]+K] + sum(dist_mat[i+K,j+K] for (i,j) in zip(dlv_seq[:-1], dlv_seq[1:]))\n",
    "\n",
    "# shop_seq의 순서로 pickup하고 dlv_seq 순서로 배달할 때 pickup과 delivery시간을 반환\n",
    "# Note: shop_seq 와 dlv_seq는 같은 주문 id들을 가져야 함. 즉, set(shop_seq) == seq(dlv_seq). (주문 id들의 순서는 바뀔 수 있음)\n",
    "def get_pd_times(all_orders, rider, shop_seq, dlv_seq):\n",
    "    \n",
    "    K = len(all_orders)\n",
    "\n",
    "    pickup_times = {}\n",
    "\n",
    "    k = shop_seq[0]\n",
    "    t = all_orders[k].order_time + all_orders[k].cook_time # order time + order cook time\n",
    "    pickup_times[k] = t\n",
    "    for next_k in shop_seq[1:]:\n",
    "        t = max(t+rider.T[k, next_k], all_orders[next_k].ready_time) # max{travel time + service time, ready time}\n",
    "        pickup_times[next_k] = t\n",
    "                \n",
    "        k = next_k\n",
    "\n",
    "    dlv_times = {}\n",
    "\n",
    "    k = dlv_seq[0]\n",
    "    t += rider.T[shop_seq[-1], k + K]\n",
    "\n",
    "    dlv_times[k] = t\n",
    "        \n",
    "    for next_k in dlv_seq[1:]:\n",
    "        t += rider.T[k + K, next_k + K]\n",
    "\n",
    "        dlv_times[next_k] = t\n",
    "\n",
    "        k = next_k\n",
    "\n",
    "    return pickup_times, dlv_times"
   ]
  },
  {
   "cell_type": "code",
   "execution_count": 212,
   "metadata": {},
   "outputs": [],
   "source": [
    "r_car = np.round(dist/all_riders[2].speed + all_riders[2].service_time)\n",
    "r_bike = np.round(dist/all_riders[0].speed + all_riders[0].service_time)\n",
    "r_walk = np.round(dist/all_riders[1].speed + all_riders[1].service_time)"
   ]
  },
  {
   "cell_type": "markdown",
   "metadata": {},
   "source": [
    "#### get pd times를 사용하면 위의 r_car, r_bike, r_walk 사용할 필요 없음 실행 시간 확인해서 결정\n",
    "#### get total distance를 사용해서 순서에 맞는 거리 계산\n",
    "#### get total volume를 사용해서 총 부피 계산"
   ]
  },
  {
   "cell_type": "code",
   "execution_count": 213,
   "metadata": {},
   "outputs": [],
   "source": [
    "import time\n",
    "import random"
   ]
  },
  {
   "cell_type": "code",
   "execution_count": 214,
   "metadata": {},
   "outputs": [
    {
     "data": {
      "text/plain": [
       "[Rider([BIKE, 5.291005291005291, 100, 60, 8000, 120, 20]),\n",
       " Rider([WALK, 1.3227513227513228, 70, 30, 8000, 120, 30]),\n",
       " Rider([CAR, 4.2328042328042335, 200, 100, 6000, 180, 100])]"
      ]
     },
     "execution_count": 214,
     "metadata": {},
     "output_type": "execute_result"
    }
   ],
   "source": [
    "all_riders"
   ]
  },
  {
   "cell_type": "code",
   "execution_count": 291,
   "metadata": {},
   "outputs": [],
   "source": [
    "def generate_random_solution(all_orders, all_riders, dist_matrix):\n",
    "    solution_dict = {}\n",
    "    orders = list(range(len(all_orders)))\n",
    "    random.shuffle(orders)\n",
    "    \n",
    "    rider_counts = {r.type: r.available_number for r in all_riders} # 라이더 타입별 수\n",
    "    rider_ids = {r.type: list(range(r.available_number)) for r in all_riders} # 라이더 타입별 id 리스트\n",
    "    # 그냥 dict 말고 list 두개 만들어서 해도 될듯?\n",
    "\n",
    "    while orders:\n",
    "        for rider in all_riders:\n",
    "            if not orders or rider_counts[rider.type] == 0:\n",
    "                continue\n",
    "            \n",
    "            # 랜덤하게 묶음 크기를 결정 (최소 1, 최대 5)\n",
    "            bundle_size = random.randint(1, min(len(orders), 2))\n",
    "            selected_orders = orders[:bundle_size]\n",
    "            \n",
    "            total_volume = get_total_volume(all_orders, selected_orders)\n",
    "            if total_volume > rider.capa:\n",
    "                continue\n",
    "\n",
    "            total_dist = get_total_distance(len(all_orders), dist_matrix, selected_orders, selected_orders)\n",
    "            pickup_times, dlv_times = get_pd_times(all_orders, rider, selected_orders, selected_orders)\n",
    "            if any(dlv_times[k] > all_orders[k].deadline for k in selected_orders):\n",
    "                continue\n",
    "\n",
    "            orders = orders[bundle_size:]\n",
    "            \n",
    "            for order in selected_orders:\n",
    "                if rider_ids[rider.type]:\n",
    "                    rider_id = rider_ids[rider.type].pop()\n",
    "                    solution_dict[order] = (rider.type, rider_id)\n",
    "            \n",
    "            rider_counts[rider.type] -= 1\n",
    "\n",
    "    return solution_dict"
   ]
  },
  {
   "cell_type": "code",
   "execution_count": 292,
   "metadata": {},
   "outputs": [],
   "source": [
    "import sys"
   ]
  },
  {
   "cell_type": "code",
   "execution_count": 307,
   "metadata": {},
   "outputs": [],
   "source": [
    "def fitness_function(solution_dict, all_orders, all_riders, dist_matrix):\n",
    "    rider_bundles = {(r.type, i): [] for r in all_riders for i in range(r.available_number)}\n",
    "    for order_idx, (rider_type, rider_id) in solution_dict.items(): # order_idx: 주문 번호, rider_type: 라이더 타입, rider_id: 라이더 번호\n",
    "        rider_bundles[(rider_type, rider_id)].append(order_idx)\n",
    "\n",
    "    total_cost = 0\n",
    "    for (rider_type, rider_id), order_indices in rider_bundles.items():\n",
    "        if not order_indices:\n",
    "            continue\n",
    "        rider = next(r for r in all_riders if r.type == rider_type)\n",
    "        \n",
    "        # 주문들에 대한 총 부피 계산\n",
    "        total_volume = get_total_volume(all_orders, order_indices)\n",
    "        if total_volume > rider.capa:\n",
    "            return sys.maxsize\n",
    "\n",
    "        shop_seq = order_indices\n",
    "        dlv_seq = order_indices\n",
    "        dist = get_total_distance(len(all_orders), dist_matrix, shop_seq, dlv_seq)\n",
    "        cost = rider.calculate_cost(dist)\n",
    "        total_cost += cost\n",
    "\n",
    "        # 제약조건 확인\n",
    "        _, dlv_times = get_pd_times(all_orders, rider, shop_seq, dlv_seq)\n",
    "        for k, dlv_time in dlv_times.items():\n",
    "            if dlv_time > all_orders[k].deadline:\n",
    "                return sys.maxsize\n",
    "\n",
    "    return total_cost"
   ]
  },
  {
   "cell_type": "code",
   "execution_count": 308,
   "metadata": {},
   "outputs": [],
   "source": [
    "from scipy.optimize import minimize"
   ]
  },
  {
   "cell_type": "code",
   "execution_count": 309,
   "metadata": {},
   "outputs": [],
   "source": [
    "initial_solution = generate_random_solution(all_orders, all_riders, dist_array)"
   ]
  },
  {
   "cell_type": "code",
   "execution_count": 310,
   "metadata": {},
   "outputs": [],
   "source": [
    "initial_x = []\n",
    "for order, (rider_type, rider_id) in sorted(initial_solution.items()):\n",
    "    rider_type_index = next(i for i, r in enumerate(all_riders) if r.type == rider_type)\n",
    "    initial_x.append(rider_type_index)\n",
    "    initial_x.append(rider_id)"
   ]
  },
  {
   "cell_type": "code",
   "execution_count": 311,
   "metadata": {},
   "outputs": [],
   "source": [
    "def optimization_function(x):\n",
    "    solution_dict = {}\n",
    "    for i in range(0, len(x), 2):\n",
    "        rider_type_index = int(x[i])\n",
    "        rider_id = int(x[i + 1])\n",
    "        order_id = i // 2\n",
    "        rider_type = all_riders[rider_type_index % len(all_riders)].type\n",
    "        solution_dict[order_id] = (rider_type, rider_id)\n",
    "    return fitness_function(solution_dict, all_orders, all_riders, dist_array)\n"
   ]
  },
  {
   "cell_type": "code",
   "execution_count": 312,
   "metadata": {},
   "outputs": [
    {
     "name": "stdout",
     "output_type": "stream",
     "text": [
      "`gtol` termination condition is satisfied.\n",
      "Number of iterations: 1, function evaluations: 195, CG iterations: 0, optimality: 0.00e+00, constraint violation: 0.00e+00, execution time: 0.0015 s.\n"
     ]
    }
   ],
   "source": [
    "result = minimize(optimization_function, initial_x, method='trust-constr', \n",
    "                  options={'verbose': 1, 'maxiter': 1000, 'gtol': 1e-6, 'xtol': 1e-6})"
   ]
  },
  {
   "cell_type": "code",
   "execution_count": 313,
   "metadata": {},
   "outputs": [
    {
     "data": {
      "text/plain": [
       "9223372036854775807"
      ]
     },
     "execution_count": 313,
     "metadata": {},
     "output_type": "execute_result"
    }
   ],
   "source": [
    "result.fun"
   ]
  },
  {
   "cell_type": "code",
   "execution_count": 314,
   "metadata": {},
   "outputs": [],
   "source": [
    "optimized_solution = {}\n",
    "for i in range(0, len(result.x), 2):\n",
    "    rider_type_index = int(result.x[i])\n",
    "    rider_id = int(result.x[i + 1])\n",
    "    order_id = i // 2\n",
    "    rider_type = all_riders[rider_type_index % len(all_riders)].type\n",
    "    optimized_solution[order_id] = (rider_type, rider_id)\n",
    "\n",
    "optimized_fitness_value = fitness_function(optimized_solution, all_orders, all_riders, dist_array)\n"
   ]
  },
  {
   "cell_type": "code",
   "execution_count": 315,
   "metadata": {},
   "outputs": [
    {
     "data": {
      "text/plain": [
       "9223372036854775807"
      ]
     },
     "execution_count": 315,
     "metadata": {},
     "output_type": "execute_result"
    }
   ],
   "source": [
    "optimized_fitness_value"
   ]
  },
  {
   "cell_type": "code",
   "execution_count": null,
   "metadata": {},
   "outputs": [],
   "source": []
  }
 ],
 "metadata": {
  "kernelspec": {
   "display_name": "ogc2024",
   "language": "python",
   "name": "python3"
  },
  "language_info": {
   "codemirror_mode": {
    "name": "ipython",
    "version": 3
   },
   "file_extension": ".py",
   "mimetype": "text/x-python",
   "name": "python",
   "nbconvert_exporter": "python",
   "pygments_lexer": "ipython3",
   "version": "3.9.15"
  }
 },
 "nbformat": 4,
 "nbformat_minor": 2
}
