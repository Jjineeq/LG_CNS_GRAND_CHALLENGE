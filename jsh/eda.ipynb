{
 "cells": [
  {
   "cell_type": "code",
   "execution_count": 2,
   "metadata": {},
   "outputs": [],
   "source": [
    "import json\n",
    "\n",
    "file_path = '../stage1_problems/STAGE1_1.json'\n",
    "\n",
    "with open(file_path, 'r') as file:\n",
    "    data = json.load(file)\n",
    "\n"
   ]
  },
  {
   "cell_type": "code",
   "execution_count": 6,
   "metadata": {},
   "outputs": [],
   "source": [
    "import pandas as pd\n",
    "import matplotlib.pyplot as plt\n",
    "import numpy as np"
   ]
  },
  {
   "cell_type": "code",
   "execution_count": 4,
   "metadata": {},
   "outputs": [],
   "source": [
    "class Order:\n",
    "    def __init__(self, order_info):\n",
    "        # [ORD_ID, ORD_TIME, SHOP_LAT, SHOP_LON, DLV_LAT, DLV_LON, VOL, COOK_TIME, DLV_DEADLINE]\n",
    "        self.id = order_info[0]\n",
    "        self.order_time = order_info[1]\n",
    "        self.shop_lat = order_info[2]\n",
    "        self.shop_lon = order_info[3]\n",
    "        self.dlv_lat = order_info[4]\n",
    "        self.dlv_lon = order_info[5]\n",
    "        self.cook_time = order_info[6]\n",
    "        self.volume = order_info[7]\n",
    "        self.deadline = order_info[8]\n",
    "\n",
    "        self.ready_time = self.order_time + self.cook_time\n",
    "\n",
    "    def __repr__(self) -> str:\n",
    "        return f'Order([{self.id}, {self.order_time}, {self.shop_lat}, {self.shop_lon}, {self.dlv_lat}, {self.dlv_lon}, {self.volume}, {self.cook_time}, {self.deadline}])'\n",
    "\n",
    "# 배달원 class\n",
    "class Rider:\n",
    "    def __init__(self, rider_info):\n",
    "        # [type, speed, capa, var_cost, fixed_cost, service_time, available number]\n",
    "        self.type = rider_info[0]\n",
    "        self.speed = rider_info[1]\n",
    "        self.capa = rider_info[2]\n",
    "        self.var_cost = rider_info[3]\n",
    "        self.fixed_cost = rider_info[4]\n",
    "        self.service_time = rider_info[5]\n",
    "        self.available_number = rider_info[6]\n",
    "    \n",
    "    def __repr__(self) -> str:\n",
    "        return f'Rider([{self.type}, {self.speed}, {self.capa}, {self.var_cost}, {self.fixed_cost}, {self.service_time}, {self.available_number}])'\n",
    "    \n",
    "    # 주어진 거리에 대한 배달원 비용 계산\n",
    "    # = 배달원별 고정비 + 이동거리로 계산된 변동비\n",
    "    def calculate_cost(self, dist):\n",
    "        return self.fixed_cost + dist / 100.0 * self.var_cost\n",
    "\n",
    "# 묶음 주문 정보\n",
    "class Bundle:\n",
    "    def __init__(self, all_orders, rider, shop_seq, dlv_seq, total_volume, total_dist, feasible=True):\n",
    "        self.rider = rider\n",
    "        self.all_orders = all_orders\n",
    "        self.feasible = feasible\n",
    "        self.shop_seq = shop_seq\n",
    "        self.dlv_seq = dlv_seq\n",
    "        self.total_volume = total_volume\n",
    "        self.total_dist = total_dist\n",
    "        self.update_cost()\n",
    "\n",
    "    # 묶음 주문의 비용 update\n",
    "    def update_cost(self):\n",
    "        self.cost = self.rider.calculate_cost(self.total_dist)\n",
    "        self.cost_per_ord = self.cost / len(self.shop_seq)\n",
    "\n",
    "\n",
    "    def __repr__(self) -> str:\n",
    "        return f'Bundle(all_orders, {self.rider.type}, {self.shop_seq}, {self.dlv_seq}, {self.total_volume}, {self.feasible})'\n"
   ]
  },
  {
   "cell_type": "code",
   "execution_count": 18,
   "metadata": {},
   "outputs": [],
   "source": [
    "riders_data = data['RIDERS']\n",
    "orders_data = data['ORDERS']\n",
    "dist_data = data['DIST']\n",
    "\n",
    "riders_columns = ['Transport', 'Speed', 'Capacity', 'RestTime', 'Cost', 'Income', 'Satisfaction']\n",
    "riders_df = pd.DataFrame(riders_data, columns=riders_columns)\n",
    "\n",
    "orders_columns = ['OrderID', 'Time', 'StartLat', 'StartLong', 'EndLat', 'EndLong', 'Distance', 'TimeWindow', 'deadline']\n",
    "orders_df = pd.DataFrame(orders_data, columns=orders_columns)\n",
    "\n",
    "dist_df = pd.DataFrame(dist_data)"
   ]
  },
  {
   "cell_type": "code",
   "execution_count": 26,
   "metadata": {},
   "outputs": [
    {
     "data": {
      "text/html": [
       "<div>\n",
       "<style scoped>\n",
       "    .dataframe tbody tr th:only-of-type {\n",
       "        vertical-align: middle;\n",
       "    }\n",
       "\n",
       "    .dataframe tbody tr th {\n",
       "        vertical-align: top;\n",
       "    }\n",
       "\n",
       "    .dataframe thead th {\n",
       "        text-align: right;\n",
       "    }\n",
       "</style>\n",
       "<table border=\"1\" class=\"dataframe\">\n",
       "  <thead>\n",
       "    <tr style=\"text-align: right;\">\n",
       "      <th></th>\n",
       "      <th>Transport</th>\n",
       "      <th>Speed</th>\n",
       "      <th>Capacity</th>\n",
       "      <th>RestTime</th>\n",
       "      <th>Cost</th>\n",
       "      <th>Income</th>\n",
       "      <th>Satisfaction</th>\n",
       "    </tr>\n",
       "  </thead>\n",
       "  <tbody>\n",
       "    <tr>\n",
       "      <th>0</th>\n",
       "      <td>BIKE</td>\n",
       "      <td>5.291005</td>\n",
       "      <td>100</td>\n",
       "      <td>60</td>\n",
       "      <td>8000</td>\n",
       "      <td>120</td>\n",
       "      <td>20</td>\n",
       "    </tr>\n",
       "    <tr>\n",
       "      <th>1</th>\n",
       "      <td>WALK</td>\n",
       "      <td>1.322751</td>\n",
       "      <td>70</td>\n",
       "      <td>30</td>\n",
       "      <td>8000</td>\n",
       "      <td>120</td>\n",
       "      <td>30</td>\n",
       "    </tr>\n",
       "    <tr>\n",
       "      <th>2</th>\n",
       "      <td>CAR</td>\n",
       "      <td>4.232804</td>\n",
       "      <td>200</td>\n",
       "      <td>100</td>\n",
       "      <td>6000</td>\n",
       "      <td>180</td>\n",
       "      <td>100</td>\n",
       "    </tr>\n",
       "  </tbody>\n",
       "</table>\n",
       "</div>"
      ],
      "text/plain": [
       "  Transport     Speed  Capacity  RestTime  Cost  Income  Satisfaction\n",
       "0      BIKE  5.291005       100        60  8000     120            20\n",
       "1      WALK  1.322751        70        30  8000     120            30\n",
       "2       CAR  4.232804       200       100  6000     180           100"
      ]
     },
     "execution_count": 26,
     "metadata": {},
     "output_type": "execute_result"
    }
   ],
   "source": [
    "riders_df"
   ]
  },
  {
   "cell_type": "code",
   "execution_count": 19,
   "metadata": {},
   "outputs": [],
   "source": [
    "K = data['K']\n",
    "\n",
    "all_orders = [Order(order_info) for order_info in data['ORDERS']]\n",
    "all_riders = [Rider(rider_info) for rider_info in data['RIDERS']]\n",
    "\n",
    "dist = np.array(data['DIST'])\n",
    "for r in all_riders:\n",
    "    r.T = np.round(dist/r.speed + r.service_time)"
   ]
  },
  {
   "cell_type": "code",
   "execution_count": 28,
   "metadata": {},
   "outputs": [
    {
     "data": {
      "text/plain": [
       "100"
      ]
     },
     "execution_count": 28,
     "metadata": {},
     "output_type": "execute_result"
    }
   ],
   "source": [
    "len(all_orders)"
   ]
  },
  {
   "cell_type": "code",
   "execution_count": 29,
   "metadata": {},
   "outputs": [
    {
     "data": {
      "text/plain": [
       "[Rider([BIKE, 5.291005291005291, 100, 60, 8000, 120, 20]),\n",
       " Rider([WALK, 1.3227513227513228, 70, 30, 8000, 120, 30]),\n",
       " Rider([CAR, 4.2328042328042335, 200, 100, 6000, 180, 100])]"
      ]
     },
     "execution_count": 29,
     "metadata": {},
     "output_type": "execute_result"
    }
   ],
   "source": [
    "all_riders"
   ]
  }
 ],
 "metadata": {
  "kernelspec": {
   "display_name": "ogc2024",
   "language": "python",
   "name": "python3"
  },
  "language_info": {
   "codemirror_mode": {
    "name": "ipython",
    "version": 3
   },
   "file_extension": ".py",
   "mimetype": "text/x-python",
   "name": "python",
   "nbconvert_exporter": "python",
   "pygments_lexer": "ipython3",
   "version": "3.9.15"
  }
 },
 "nbformat": 4,
 "nbformat_minor": 2
}
