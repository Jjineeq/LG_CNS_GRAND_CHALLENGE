{
 "cells": [
  {
   "cell_type": "code",
   "metadata": {
    "is_executing": true,
    "ExecuteTime": {
     "end_time": "2024-06-27T07:20:16.097465Z",
     "start_time": "2024-06-27T07:20:16.024301Z"
    }
   },
   "source": [
    "#%load_ext autoreload\n",
    "#%autoreload 2\n",
    "\n",
    "from util import *\n",
    "from myalgorithm import algorithm\n",
    "from function import *"
   ],
   "outputs": [],
   "execution_count": 8
  },
  {
   "cell_type": "code",
   "metadata": {
    "jupyter": {
     "is_executing": true
    },
    "ExecuteTime": {
     "start_time": "2024-06-27T07:20:17.697494Z"
    }
   },
   "source": [
    "\n",
    "problem_file = '../alg_test_problems_20240429/TEST_K100_1.json'\n",
    "timelimit = 60\n",
    "\n",
    "\n",
    "with open(problem_file, 'r') as f:\n",
    "    prob = json.load(f)\n",
    "\n",
    "K = prob['K']\n",
    "\n",
    "ALL_ORDERS = [Order(order_info) for order_info in prob['ORDERS']]\n",
    "ALL_RIDERS = [Rider(rider_info) for rider_info in prob['RIDERS']]\n",
    "\n",
    "DIST = np.array(prob['DIST'])\n",
    "for r in ALL_RIDERS:\n",
    "    r.T = np.round(DIST/r.speed + r.service_time)\n",
    "\n",
    "alg_start_time = time.time()\n",
    "\n",
    "exception = None\n",
    "\n",
    "solution = None\n",
    "try:\n",
    "    # Run algorithm!\n",
    "    solution = algorithm(K, ALL_ORDERS, ALL_RIDERS, DIST, timelimit)\n",
    "except Exception as e:\n",
    "    exception = f'{e}'\n",
    "\n",
    "\n",
    "alg_end_time = time.time()\n",
    "\n",
    "with open(problem_file, 'r') as f:\n",
    "    prob = json.load(f)\n",
    "\n",
    "K = prob['K']\n",
    "\n",
    "ALL_ORDERS = [Order(order_info) for order_info in prob['ORDERS']]\n",
    "ALL_RIDERS = [Rider(rider_info) for rider_info in prob['RIDERS']]\n",
    "\n",
    "DIST = np.array(prob['DIST'])\n",
    "for r in ALL_RIDERS:\n",
    "    r.T = np.round(DIST/r.speed + r.service_time)\n",
    "\n",
    "checked_solution = solution_check(K, ALL_ORDERS, ALL_RIDERS, DIST, solution)\n",
    "\n",
    "checked_solution['time'] = alg_end_time - alg_start_time\n",
    "checked_solution['timelimit_exception'] = (alg_end_time - alg_start_time) > timelimit + 1 # allowing additional 1 second!\n",
    "checked_solution['exception'] = exception\n",
    "\n",
    "checked_solution['prob_name'] = prob['name']\n",
    "checked_solution['prob_file'] = problem_file\n",
    "\n",
    "checked_solution"
   ],
   "outputs": [
    {
     "name": "stdout",
     "output_type": "stream",
     "text": [
      "Best obj = 7026.6\n",
      "Best obj = 6987.82\n",
      "Best obj = 6945.26\n",
      "Best obj = 6900.73\n",
      "Best obj = 6864.78\n",
      "Best obj = 6829.97\n",
      "Best obj = 6802.35\n",
      "Best obj = 6786.38\n",
      "Best obj = 6735.77\n",
      "Best obj = 6732.52\n",
      "Best obj = 6692.35\n",
      "Best obj = 6653.75\n",
      "Best obj = 6599.71\n",
      "Best obj = 6551.19\n",
      "Best obj = 6527.06\n",
      "Best obj = 6490.07\n",
      "Best obj = 6440.76\n",
      "Best obj = 6386.55\n",
      "Best obj = 6340.2\n",
      "Best obj = 6292.11\n",
      "Best obj = 6263.03\n",
      "Best obj = 6241.24\n",
      "Best obj = 6191.79\n",
      "Best obj = 6147.37\n",
      "Best obj = 6109.41\n",
      "Best obj = 6088.84\n",
      "Best obj = 6061.56\n",
      "Best obj = 6027.68\n",
      "Best obj = 5984.43\n",
      "Best obj = 5952.79\n",
      "Best obj = 5899.32\n",
      "Best obj = 5854.78\n",
      "Best obj = 5833.18\n",
      "Best obj = 5777.53\n",
      "Best obj = 5727.07\n",
      "Best obj = 5534.847999999999\n",
      "Best obj = 5484.424\n",
      "Best obj = 5435.44\n",
      "Best obj = 5386.964\n",
      "Best obj = 5351.172\n",
      "Best obj = 5290.112000000001\n",
      "Best obj = 5256.954000000001\n"
     ]
    }
   ],
   "execution_count": null
  },
  {
   "cell_type": "code",
   "execution_count": null,
   "metadata": {},
   "source": [
    "draw_route_solution(ALL_ORDERS, checked_solution)"
   ],
   "outputs": []
  },
  {
   "cell_type": "code",
   "execution_count": null,
   "metadata": {},
   "source": [
    "draw_bundle_solution(ALL_ORDERS, ALL_RIDERS, DIST, checked_solution)"
   ],
   "outputs": []
  }
 ],
 "metadata": {
  "kernelspec": {
   "display_name": "Python 3 (ipykernel)",
   "language": "python",
   "name": "python3"
  },
  "language_info": {
   "codemirror_mode": {
    "name": "ipython",
    "version": 3
   },
   "file_extension": ".py",
   "mimetype": "text/x-python",
   "name": "python",
   "nbconvert_exporter": "python",
   "pygments_lexer": "ipython3",
   "version": "3.10.13"
  }
 },
 "nbformat": 4,
 "nbformat_minor": 4
}
