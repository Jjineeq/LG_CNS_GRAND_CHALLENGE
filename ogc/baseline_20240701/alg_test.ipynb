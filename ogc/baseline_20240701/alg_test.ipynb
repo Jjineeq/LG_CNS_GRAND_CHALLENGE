{
 "cells": [
  {
   "cell_type": "code",
   "metadata": {
    "ExecuteTime": {
     "end_time": "2024-07-01T07:07:37.574207Z",
     "start_time": "2024-07-01T07:07:37.517207Z"
    }
   },
   "source": [
    "%load_ext autoreload\n",
    "%autoreload 2\n",
    "\n",
    "\n",
    "from util import *\n",
    "from myalgorithm import algorithm\n",
    "\n"
   ],
   "outputs": [
    {
     "name": "stdout",
     "output_type": "stream",
     "text": [
      "The autoreload extension is already loaded. To reload it, use:\n",
      "  %reload_ext autoreload\n"
     ]
    }
   ],
   "execution_count": 6
  },
  {
   "cell_type": "code",
   "metadata": {
    "ExecuteTime": {
     "end_time": "2024-07-01T07:10:42.906437Z",
     "start_time": "2024-07-01T07:10:12.799569Z"
    }
   },
   "source": [
    "\n",
    "problem_file = '../alg_test_problems_20240429/TEST_K100_1.json'\n",
    "timelimit = 30\n",
    "\n",
    "# np.random.seed(1)\n",
    "\n",
    "with open(problem_file, 'r') as f:\n",
    "    prob = json.load(f)\n",
    "\n",
    "K = prob['K']\n",
    "\n",
    "ALL_ORDERS = [Order(order_info) for order_info in prob['ORDERS']]\n",
    "ALL_RIDERS = [Rider(rider_info) for rider_info in prob['RIDERS']]\n",
    "\n",
    "DIST = np.array(prob['DIST'])\n",
    "for r in ALL_RIDERS:\n",
    "    r.T = np.round(DIST/r.speed + r.service_time)\n",
    "\n",
    "alg_start_time = time.time()\n",
    "\n",
    "exception = None\n",
    "\n",
    "solution = None\n",
    "try:\n",
    "    # Run algorithm!\n",
    "    solution = algorithm(K, ALL_ORDERS, ALL_RIDERS, DIST, timelimit)\n",
    "except Exception as e:\n",
    "    exception = f'{e}'\n",
    "\n",
    "\n",
    "alg_end_time = time.time()\n",
    "\n",
    "with open(problem_file, 'r') as f:\n",
    "    prob = json.load(f)\n",
    "\n",
    "K = prob['K']\n",
    "\n",
    "ALL_ORDERS = [Order(order_info) for order_info in prob['ORDERS']]\n",
    "ALL_RIDERS = [Rider(rider_info) for rider_info in prob['RIDERS']]\n",
    "\n",
    "DIST = np.array(prob['DIST'])\n",
    "for r in ALL_RIDERS:\n",
    "    r.T = np.round(DIST/r.speed + r.service_time)\n",
    "\n",
    "checked_solution = solution_check(K, ALL_ORDERS, ALL_RIDERS, DIST, solution)\n",
    "\n",
    "checked_solution['time'] = alg_end_time - alg_start_time\n",
    "checked_solution['timelimit_exception'] = (alg_end_time - alg_start_time) > timelimit + 1 # allowing additional 1 second!\n",
    "checked_solution['exception'] = exception\n",
    "\n",
    "checked_solution['prob_name'] = prob['name']\n",
    "checked_solution['prob_file'] = problem_file\n",
    "\n",
    "checked_solution"
   ],
   "outputs": [
    {
     "name": "stdout",
     "output_type": "stream",
     "text": [
      "Best obj = 7026.6\n",
      "Best obj = 6952.13\n",
      "Best obj = 6892.84\n",
      "Best obj = 6856.62\n",
      "Best obj = 6801.21\n",
      "Best obj = 6756.45\n",
      "Best obj = 6696.54\n",
      "Best obj = 6643.69\n",
      "Best obj = 6590.22\n",
      "Best obj = 6542.79\n",
      "Best obj = 6488.35\n",
      "Best obj = 6455.07\n",
      "Best obj = 6400.69\n",
      "Best obj = 6342.58\n",
      "Best obj = 6285.64\n",
      "Best obj = 6208.67\n",
      "Best obj = 6142.32\n",
      "Best obj = 6083.48\n",
      "Best obj = 6037.76\n",
      "Best obj = 5991.08\n",
      "Best obj = 5934.29\n",
      "Best obj = 5898.29\n",
      "Best obj = 5839.68\n",
      "Best obj = 5779.11\n",
      "Best obj = 5735.65\n",
      "Best obj = 5686.89\n",
      "Best obj = 5623.6\n",
      "Best obj = 5579.36\n",
      "Best obj = 5512.99\n",
      "Best obj = 5458.67\n",
      "Best obj = 5397.41\n",
      "Best obj = 5354.82\n",
      "Best obj = 5306.29\n",
      "Best obj = 5220.53\n",
      "Best obj = 4967.673\n",
      "Best obj = 4914.2029999999995\n",
      "Best obj = 4864.3589999999995\n",
      "Best obj = 4818.685\n",
      "Best obj = 4741.473\n",
      "Best obj = 4680.679\n",
      "Best obj = 4633.415\n",
      "Best obj = 4453.170999999999\n",
      "Best obj = 4419.469\n"
     ]
    },
    {
     "data": {
      "text/plain": [
       "{'total_cost': 441946.89999999997,\n",
       " 'avg_cost': 4419.469,\n",
       " 'num_drivers': 61,\n",
       " 'total_dist': 191139,\n",
       " 'feasible': True,\n",
       " 'infeasibility': None,\n",
       " 'bundles': [['WALK', [1], [1]],\n",
       "  ['WALK', [7], [7]],\n",
       "  ['WALK', [15], [15]],\n",
       "  ['WALK', [17], [17]],\n",
       "  ['WALK', [20], [20]],\n",
       "  ['BIKE', [21], [21]],\n",
       "  ['WALK', [26], [26]],\n",
       "  ['BIKE', [29], [29]],\n",
       "  ['WALK', [39], [39]],\n",
       "  ['WALK', [43], [43]],\n",
       "  ['BIKE', [46], [46]],\n",
       "  ['BIKE', [52], [52]],\n",
       "  ['WALK', [53], [53]],\n",
       "  ['WALK', [55], [55]],\n",
       "  ['WALK', [56], [56]],\n",
       "  ['BIKE', [62], [62]],\n",
       "  ['WALK', [65], [65]],\n",
       "  ['WALK', [74], [74]],\n",
       "  ['WALK', [77], [77]],\n",
       "  ['BIKE', [79], [79]],\n",
       "  ['BIKE', [80], [80]],\n",
       "  ['WALK', [81], [81]],\n",
       "  ['BIKE', [82], [82]],\n",
       "  ['BIKE', [84], [84]],\n",
       "  ['WALK', [85], [85]],\n",
       "  ['BIKE', [88], [88]],\n",
       "  ['WALK', [92], [92]],\n",
       "  ['WALK', [94], [94]],\n",
       "  ['WALK', [95], [95]],\n",
       "  ['BIKE', [96], [96]],\n",
       "  ['BIKE', [99], [99]],\n",
       "  ['BIKE', [90, 73], [73, 90]],\n",
       "  ['BIKE', [8, 9], [8, 9]],\n",
       "  ['BIKE', [37, 63, 69], [37, 63, 69]],\n",
       "  ['CAR', [38, 32], [38, 32]],\n",
       "  ['CAR', [66, 76], [66, 76]],\n",
       "  ['CAR', [31, 2], [2, 31]],\n",
       "  ['CAR', [59, 47], [47, 59]],\n",
       "  ['CAR', [11, 12], [11, 12]],\n",
       "  ['CAR', [58, 83, 72], [83, 72, 58]],\n",
       "  ['CAR', [24, 42], [24, 42]],\n",
       "  ['CAR', [36, 22], [36, 22]],\n",
       "  ['CAR', [41, 60, 19], [41, 19, 60]],\n",
       "  ['CAR', [86, 64], [64, 86]],\n",
       "  ['CAR', [40, 78], [40, 78]],\n",
       "  ['CAR', [70, 30], [30, 70]],\n",
       "  ['CAR', [34, 13], [13, 34]],\n",
       "  ['CAR', [93, 91], [91, 93]],\n",
       "  ['CAR', [51, 57], [51, 57]],\n",
       "  ['CAR', [87, 98], [98, 87]],\n",
       "  ['CAR', [97, 71], [71, 97]],\n",
       "  ['CAR', [10, 49, 35], [10, 49, 35]],\n",
       "  ['CAR', [3, 16], [3, 16]],\n",
       "  ['WALK', [89, 75], [89, 75]],\n",
       "  ['CAR', [67, 50, 61], [50, 61, 67]],\n",
       "  ['BIKE', [6, 33, 28], [6, 33, 28]],\n",
       "  ['BIKE', [4, 48], [4, 48]],\n",
       "  ['BIKE', [27, 45, 14], [14, 27, 45]],\n",
       "  ['BIKE', [54, 23, 44], [23, 54, 44]],\n",
       "  ['BIKE', [5, 25, 68], [5, 68, 25]],\n",
       "  ['WALK', [0, 18], [0, 18]]],\n",
       " 'time': 30.03869938850403,\n",
       " 'timelimit_exception': False,\n",
       " 'exception': None,\n",
       " 'prob_name': 'TEST_K100_1',\n",
       " 'prob_file': '../alg_test_problems_20240429/TEST_K100_1.json'}"
      ]
     },
     "execution_count": 10,
     "metadata": {},
     "output_type": "execute_result"
    }
   ],
   "execution_count": 10
  },
  {
   "cell_type": "code",
   "metadata": {},
   "source": [
    "draw_route_solution(ALL_ORDERS, checked_solution)"
   ],
   "outputs": [],
   "execution_count": null
  },
  {
   "cell_type": "code",
   "metadata": {},
   "source": [
    "draw_bundle_solution(ALL_ORDERS, ALL_RIDERS, DIST, checked_solution)"
   ],
   "outputs": [],
   "execution_count": null
  }
 ],
 "metadata": {
  "kernelspec": {
   "display_name": "Python 3 (ipykernel)",
   "language": "python",
   "name": "python3"
  },
  "language_info": {
   "codemirror_mode": {
    "name": "ipython",
    "version": 3
   },
   "file_extension": ".py",
   "mimetype": "text/x-python",
   "name": "python",
   "nbconvert_exporter": "python",
   "pygments_lexer": "ipython3",
   "version": "3.10.13"
  }
 },
 "nbformat": 4,
 "nbformat_minor": 4
}
